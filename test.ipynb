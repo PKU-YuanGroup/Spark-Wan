{
 "cells": [
  {
   "cell_type": "code",
   "execution_count": 3,
   "metadata": {},
   "outputs": [],
   "source": [
    "import safetensors"
   ]
  },
  {
   "cell_type": "code",
   "execution_count": 19,
   "metadata": {},
   "outputs": [
    {
     "name": "stdout",
     "output_type": "stream",
     "text": [
      "tensor([[-0.0181,  0.0039, -0.0012,  ..., -0.0096,  0.0221, -0.0265],\n",
      "        [ 0.0053, -0.0480,  0.0533,  ...,  0.0646, -0.0090, -0.0102],\n",
      "        [ 0.0178, -0.0238,  0.0095,  ..., -0.0036,  0.0358, -0.0095],\n",
      "        ...,\n",
      "        [-0.0201,  0.0223,  0.0101,  ...,  0.0133, -0.0156,  0.0123],\n",
      "        [-0.0247,  0.0031, -0.0090,  ..., -0.0102,  0.0188, -0.0092],\n",
      "        [ 0.0186, -0.0198, -0.0105,  ...,  0.0219, -0.0080,  0.0031]])\n"
     ]
    }
   ],
   "source": [
    "with safetensors.safe_open(\n",
    "    \"/storage/ysh/Ckpts/Wan2.1-T2V-14B-Diffusers/transformer/diffusion_pytorch_model-00001-of-00012.safetensors\",\n",
    "    framework=\"pt\"\n",
    ") as f:\n",
    "    print(f.get_tensor(f.keys()[3]))"
   ]
  }
 ],
 "metadata": {
  "kernelspec": {
   "display_name": "wan_train",
   "language": "python",
   "name": "python3"
  },
  "language_info": {
   "codemirror_mode": {
    "name": "ipython",
    "version": 3
   },
   "file_extension": ".py",
   "mimetype": "text/x-python",
   "name": "python",
   "nbconvert_exporter": "python",
   "pygments_lexer": "ipython3",
   "version": "3.11.0"
  }
 },
 "nbformat": 4,
 "nbformat_minor": 2
}
