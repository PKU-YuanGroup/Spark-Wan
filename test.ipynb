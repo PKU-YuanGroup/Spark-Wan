{
 "cells": [
  {
   "cell_type": "code",
   "execution_count": 1,
   "metadata": {},
   "outputs": [],
   "source": [
    "import json"
   ]
  },
  {
   "cell_type": "code",
   "execution_count": 2,
   "metadata": {},
   "outputs": [],
   "source": [
    "with open(\"/data/pfs/sucai_final_3880570.json\", \"r\") as f:\n",
    "    data = json.load(f)"
   ]
  },
  {
   "cell_type": "code",
   "execution_count": 7,
   "metadata": {},
   "outputs": [
    {
     "name": "stdout",
     "output_type": "stream",
     "text": [
      "not exists\n",
      "pexels/5000-3/18922673_resize1080p.mp4\n",
      "not exists\n",
      "storyblocks/videos_storyblocks_V7/6950227.mp4\n",
      "not exists\n",
      "istock/videos/part_88_50000/gm1074182476-287591743.mp4\n",
      "not exists\n",
      "clipchamp/videos_clipchampblocks_coco_v2/stryb_v10883701.mp4\n",
      "not exists\n",
      "storyblocks/videos_storyblocks_V8/346666735.mp4\n",
      "not exists\n",
      "istock/videos/part_83_50000/gm1485816473-511710105.mp4\n",
      "not exists\n",
      "istock/videos/part_71_50000/gm1144928593-307991221.mp4\n",
      "not exists\n",
      "storyblocks/videos_storyblocks_V7/11057188.mp4\n",
      "not exists\n",
      "storyblocks/videos_storyblocks_v4/6141800-3-d-printing-dollar-money-by-finn-moeller-artlist-4-k-348937033.mp4\n",
      "not exists\n",
      "istock/videos/part_71_50000/gm456975628-49157190.mp4\n",
      "not exists\n",
      "pexels/5000-23/11622220_resize1080p.mp4\n",
      "not exists\n",
      "storyblocks/videos_storyblocks_v4/christmas-light-transitions-particle-lights-transition-for-christmas-project-348841892.mp4\n",
      "not exists\n",
      "pexels/5000-66/6764548_resize1080p.mp4\n",
      "not exists\n",
      "storyblocks/videos_storyblocks_V6/560606.mp4\n",
      "exists\n",
      "pexels/5000-2/19438598_resize1080p.mp4\n"
     ]
    }
   ],
   "source": [
    "import os\n",
    "base_path = \"/data/pfs/dataset/\"\n",
    "exist_count = 0\n",
    "exist_data = []\n",
    "for line in data:\n",
    "    if os.path.exists(os.path.join(base_path, line['path'])):\n",
    "        print(\"exists\")\n",
    "        print(line['path'])\n",
    "        exist_count += 1\n",
    "        exist_data.append(line)\n",
    "        \n",
    "print(exist_count)\n",
    "with open(\"/data/pfs/code/exist_data.json\", \"w\") as f:\n",
    "    json.dump(exist_data, f)"
   ]
  }
 ],
 "metadata": {
  "kernelspec": {
   "display_name": "wan_train",
   "language": "python",
   "name": "python3"
  },
  "language_info": {
   "codemirror_mode": {
    "name": "ipython",
    "version": 3
   },
   "file_extension": ".py",
   "mimetype": "text/x-python",
   "name": "python",
   "nbconvert_exporter": "python",
   "pygments_lexer": "ipython3",
   "version": "3.11.0"
  }
 },
 "nbformat": 4,
 "nbformat_minor": 2
}
